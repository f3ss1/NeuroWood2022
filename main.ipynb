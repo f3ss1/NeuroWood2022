{
 "cells": [
  {
   "cell_type": "markdown",
   "metadata": {
    "pycharm": {
     "name": "#%% md\n"
    }
   },
   "source": [
    "## Config"
   ]
  },
  {
   "cell_type": "code",
   "execution_count": null,
   "metadata": {
    "pycharm": {
     "name": "#%%\n",
     "is_executing": true
    }
   },
   "outputs": [],
   "source": [
    "import numpy as np\n",
    "\n",
    "from sklearn.metrics import f1_score\n",
    "\n",
    "import wandb\n",
    "\n",
    "wandb.init(project=\"NeuroWood2022-name\", entity=\"nuclear_foxes_team\")"
   ]
  },
  {
   "cell_type": "code",
   "execution_count": 2,
   "metadata": {
    "pycharm": {
     "name": "#%%\n"
    }
   },
   "outputs": [],
   "source": [
    "import torch\n",
    "from torch.nn import CrossEntropyLoss\n",
    "from torch.optim import Adam, SGD, lr_scheduler\n",
    "from torch.utils.data import DataLoader\n",
    "\n",
    "\n",
    "torch.manual_seed(7575)\n",
    "np.random.seed(7575)\n",
    "torch.cuda.empty_cache()\n",
    "\n",
    "from config import Config\n",
    "from source import train, WoodDataset, save_model\n",
    "import models"
   ]
  },
  {
   "cell_type": "markdown",
   "metadata": {
    "pycharm": {
     "name": "#%% md\n"
    }
   },
   "source": [
    "## Custom functions"
   ],
   "execution_count": 4
  },
  {
   "cell_type": "code",
   "execution_count": 3,
   "metadata": {
    "pycharm": {
     "name": "#%%\n"
    }
   },
   "outputs": [],
   "source": [
    "def transform(x):\n",
    "    if (x == 0):\n",
    "        return x\n",
    "    elif (x == 1):\n",
    "        return x\n",
    "    else:\n",
    "        return 3\n",
    "\n",
    "\n",
    "def calculate_accuracy(y_pred, y_true):\n",
    "    correct = (y_pred.argmax(dim=1) == y_true).float().sum()\n",
    "    return correct\n",
    "\n",
    "\n",
    "def calculate_f1_score(y_pred, y_true):\n",
    "    y_pred = np.argmax(y_pred.detach().cpu().numpy(), axis=1)\n",
    "    y_true = y_true.detach().cpu().numpy()\n",
    "    return f1_score(y_true, y_pred, average='macro')"
   ]
  },
  {
   "cell_type": "markdown",
   "metadata": {
    "pycharm": {
     "name": "#%% md\n"
    }
   },
   "source": [
    "## Data loading"
   ],
   "outputs": [
    {
     "data": {
      "text/plain": "  id  class\n0  1    NaN\n1  2    NaN\n2  3    NaN\n3  4    NaN\n4  5    NaN",
      "text/html": "<div>\n<style scoped>\n    .dataframe tbody tr th:only-of-type {\n        vertical-align: middle;\n    }\n\n    .dataframe tbody tr th {\n        vertical-align: top;\n    }\n\n    .dataframe thead th {\n        text-align: right;\n    }\n</style>\n<table border=\"1\" class=\"dataframe\">\n  <thead>\n    <tr style=\"text-align: right;\">\n      <th></th>\n      <th>id</th>\n      <th>class</th>\n    </tr>\n  </thead>\n  <tbody>\n    <tr>\n      <th>0</th>\n      <td>1</td>\n      <td>NaN</td>\n    </tr>\n    <tr>\n      <th>1</th>\n      <td>2</td>\n      <td>NaN</td>\n    </tr>\n    <tr>\n      <th>2</th>\n      <td>3</td>\n      <td>NaN</td>\n    </tr>\n    <tr>\n      <th>3</th>\n      <td>4</td>\n      <td>NaN</td>\n    </tr>\n    <tr>\n      <th>4</th>\n      <td>5</td>\n      <td>NaN</td>\n    </tr>\n  </tbody>\n</table>\n</div>"
     },
     "execution_count": 6,
     "metadata": {},
     "output_type": "execute_result"
    }
   ],
   "execution_count": 6
  },
  {
   "cell_type": "code",
   "execution_count": 4,
   "metadata": {
    "pycharm": {
     "name": "#%%\n"
    }
   },
   "outputs": [],
   "source": [
    "train_dataset_full = WoodDataset()\n",
    "\n",
    "train_set_size = int(len(train_dataset_full) * 0.8)\n",
    "valid_set_size = len(train_dataset_full) - train_set_size\n",
    "\n",
    "train_dataset, val_dataset = torch.utils.data.random_split(train_dataset_full, [train_set_size, valid_set_size])"
   ]
  },
  {
   "cell_type": "code",
   "execution_count": 5,
   "metadata": {
    "pycharm": {
     "name": "#%%\n"
    }
   },
   "outputs": [],
   "source": [
    "train_dataloader = DataLoader(train_dataset, batch_size=Config.BATCH_SIZE, pin_memory=True, shuffle=True)\n",
    "val_dataloader = DataLoader(val_dataset, batch_size=Config.BATCH_SIZE, pin_memory=True, shuffle=True)"
   ]
  },
  {
   "cell_type": "code",
   "execution_count": 6,
   "outputs": [],
   "source": [
    "model = models.Effnetb3()\n",
    "\n",
    "lr = 8e-4\n",
    "gamma = 0.6\n",
    "parameters = {\n",
    "    'optimizer' : Adam(model.parameters(), lr=lr),\n",
    "    'criterion' : CrossEntropyLoss(),\n",
    "    'val_criterion' : CrossEntropyLoss(),\n",
    "    'val_metric' : calculate_accuracy,\n",
    "    'n_epochs' : 15,\n",
    "    'device' : Config.DEVICE,\n",
    "}\n",
    "\n",
    "parameters['scheduler'] = lr_scheduler.ExponentialLR(parameters['optimizer'], gamma=gamma)\n",
    "\n",
    "wandb_dict = {\n",
    "    \"Learning_rate\": lr,\n",
    "    \"Gamma\": gamma,\n",
    "    \"Epochs\": parameters['n_epochs'],\n",
    "    \"Batch_size\": Config.BATCH_SIZE,\n",
    "    \"Network\": \"Effnetb3 + Adam + ExponentialScheduler\",\n",
    "    \"Full train dataset\" : False\n",
    "}\n",
    "\n",
    "wandb.config.update(wandb_dict)"
   ],
   "metadata": {
    "collapsed": false,
    "pycharm": {
     "name": "#%%\n"
    }
   }
  },
  {
   "cell_type": "code",
   "execution_count": null,
   "metadata": {
    "pycharm": {
     "name": "#%%\n",
     "is_executing": true
    }
   },
   "outputs": [],
   "source": [
    "train(model, train_dataloader, val_dataloader=val_dataloader, **parameters)"
   ]
  },
  {
   "cell_type": "code",
   "execution_count": 7,
   "outputs": [],
   "source": [],
   "metadata": {
    "collapsed": false,
    "pycharm": {
     "name": "#%%\n"
    }
   }
  },
  {
   "cell_type": "code",
   "execution_count": 7,
   "outputs": [],
   "source": [],
   "metadata": {
    "collapsed": false,
    "pycharm": {
     "name": "#%%\n"
    }
   }
  }
 ],
 "metadata": {
  "interpreter": {
   "hash": "b3ba2566441a7c06988d0923437866b63cedc61552a5af99d1f4fb67d367b25f"
  },
  "kernelspec": {
   "display_name": "Python 3.9.12 ('base')",
   "language": "python",
   "name": "python3"
  },
  "language_info": {
   "codemirror_mode": {
    "name": "ipython",
    "version": 3
   },
   "file_extension": ".py",
   "mimetype": "text/x-python",
   "name": "python",
   "nbconvert_exporter": "python",
   "pygments_lexer": "ipython3",
   "version": "3.9.12"
  },
  "orig_nbformat": 4
 },
 "nbformat": 4,
 "nbformat_minor": 2
}